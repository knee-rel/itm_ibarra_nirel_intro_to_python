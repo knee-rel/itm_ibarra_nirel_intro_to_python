{
 "cells": [
  {
   "cell_type": "markdown",
   "metadata": {
    "scrolled": false
   },
   "source": [
    "# 192468\n",
    "# Ibarra\n",
    "# 2 BS ITE"
   ]
  },
  {
   "cell_type": "code",
   "execution_count": 8,
   "metadata": {},
   "outputs": [
    {
     "name": "stdout",
     "output_type": "stream",
     "text": [
      "Enter first number: 2\n",
      "Enter second number: 4\n",
      "Enter third number: 6\n",
      "The average is  4.0\n"
     ]
    }
   ],
   "source": [
    "first_num = int(input('Enter first number: '))\n",
    "second_num = int(input('Enter second number: '))\n",
    "third_num = int(input('Enter third number: '))\n",
    "\n",
    "average = (first_num + second_num + third_num) / 3\n",
    "\n",
    "print('The average is ', average)"
   ]
  },
  {
   "cell_type": "code",
   "execution_count": 17,
   "metadata": {},
   "outputs": [
    {
     "name": "stdout",
     "output_type": "stream",
     "text": [
      "The average is 2.0\n"
     ]
    }
   ],
   "source": [
    "def three_number_average(a, b, c):\n",
    "    average = (a + b + c) / 3\n",
    "    return average\n",
    "\n",
    "#testing the function\n",
    "result = three_number_average(1,2,3)\n",
    "print('The average is {}'.format(result))"
   ]
  }
 ],
 "metadata": {
  "kernelspec": {
   "display_name": "Python 3",
   "language": "python",
   "name": "python3"
  },
  "language_info": {
   "codemirror_mode": {
    "name": "ipython",
    "version": 3
   },
   "file_extension": ".py",
   "mimetype": "text/x-python",
   "name": "python",
   "nbconvert_exporter": "python",
   "pygments_lexer": "ipython3",
   "version": "3.8.5"
  }
 },
 "nbformat": 4,
 "nbformat_minor": 4
}
